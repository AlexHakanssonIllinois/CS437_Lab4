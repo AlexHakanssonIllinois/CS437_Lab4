{
 "cells": [
  {
   "cell_type": "code",
   "execution_count": 7,
   "id": "5e9960d1",
   "metadata": {},
   "outputs": [],
   "source": [
    "import boto3\n",
    "import sys\n",
    "import pandas as pd\n",
    "import os\n",
    "import json\n",
    "from matplotlib.ticker import MultipleLocator\n",
    "from matplotlib.ticker import MaxNLocator\n",
    "from scipy import stats"
   ]
  },
  {
   "cell_type": "code",
   "execution_count": 6,
   "id": "9bfbb2ba",
   "metadata": {},
   "outputs": [],
   "source": [
    "# connect to AWS client with saved key file\n",
    "with open(\"aws_config/rootkey.csv\",\"r\") as kf:\n",
    "    aws_info = kf.readlines()\n",
    "    aws_ak =aws_info[0].split(\"=\")[1].strip()\n",
    "    aws_sk=aws_info[1].split(\"=\")[1].strip()\n",
    "client = boto3.client('iot', \n",
    "                      aws_access_key_id=aws_ak,\n",
    "                      aws_secret_access_key=aws_sk, \n",
    "                      region_name='us-west-2')"
   ]
  },
  {
   "cell_type": "code",
   "execution_count": 18,
   "id": "62c47002",
   "metadata": {},
   "outputs": [
    {
     "name": "stdout",
     "output_type": "stream",
     "text": [
      "MyGreenGrass0\n",
      "MyGreenGrass1\n",
      "MyGreenGrass2\n",
      "MyGreenGrass3\n",
      "MyGreenGrass4\n"
     ]
    }
   ],
   "source": [
    "# make a green grass object for each dataset\n",
    "for i in range(0,5):\n",
    "    #name them MyGreenGrass[i]\n",
    "    tn = \"MyGreenGrass\"+str(i)\n",
    "    print(tn)\n",
    "    \n",
    "    # make directory to save files if not already made\n",
    "    new_dir = \"Green_Grass_Config/device_{}/\".format(i)\n",
    "    if not os.path.exists(new_dir):\n",
    "        os.mkdir(new_dir)\n",
    "    trResp= client.create_thing(thingName=\"MyGreenGrass\"+str(i))\n",
    "    crResp = client.create_keys_and_certificate(setAsActive=True)\n",
    "    \n",
    "    # make file names to save files to\n",
    "    certf = \"Green_Grass_Config/device_{}/device_{}_certificate.pem.crt\".format(i,i)\n",
    "    priv_keyf = \"Green_Grass_Config/device_{}/device_{}_private.pem.key\".format(i,i)\n",
    "    prub_keyf = \"Green_Grass_Config/device_{}/device_{}_public.pem.key\".format(i,i)\n",
    "    idf = \"Green_Grass_Config/device_{}/device_{}_id.txt\".format(i,i)\n",
    "    \n",
    "    # save certificates and keys\n",
    "    with open(certf,\"w\") as crw:\n",
    "        crw.write(crResp[\"certificatePem\"])\n",
    "    with open(priv_keyf, \"w\") as pkw:\n",
    "        pkw.write(crResp[\"keyPair\"]['PrivateKey'])\n",
    "    with open(prub_keyf, \"w\") as prub2:\n",
    "        prub2.write(crResp[\"keyPair\"]['PublicKey'])\n",
    "    with open(idf, \"w\") as idw:\n",
    "        idw.write(crResp[\"certificateId\"])\n",
    "        \n",
    "    # add communication and green grass policies to them\n",
    "    apResp = client.attach_policy(policyName=\"Communication\",\n",
    "                             target = crResp[\"certificateArn\"])\n",
    "    apRespGreen = client.attach_policy(policyName=\"GreengrassV1CorePolicy\",\n",
    "                             target = crResp[\"certificateArn\"])\n",
    "    \n",
    "    aprnResp = client.attach_thing_principal(thingName=trResp['thingName'],\n",
    "                                         principal = crResp[\"certificateArn\"])\n",
    "    \n",
    "    addgResp = client.add_thing_to_thing_group(thingGroupName= \"TestThingGroup\",\n",
    "                                          thingGroupArn= \"arn:aws:iot:us-west-2:298611685204:thinggroup/TestThingGroup\",\n",
    "                                          thingName =trResp[\"thingName\"],\n",
    "                                          thingArn = trResp[\"thingArn\"])\n",
    "    \n"
   ]
  }
 ],
 "metadata": {
  "kernelspec": {
   "display_name": "Python 3 (ipykernel)",
   "language": "python",
   "name": "python3"
  },
  "language_info": {
   "codemirror_mode": {
    "name": "ipython",
    "version": 3
   },
   "file_extension": ".py",
   "mimetype": "text/x-python",
   "name": "python",
   "nbconvert_exporter": "python",
   "pygments_lexer": "ipython3",
   "version": "3.9.12"
  }
 },
 "nbformat": 4,
 "nbformat_minor": 5
}
